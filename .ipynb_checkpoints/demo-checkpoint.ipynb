{
 "cells": [
  {
   "cell_type": "markdown",
   "id": "3bcf4d99-1c23-4e9a-b2fe-267a885c2b81",
   "metadata": {},
   "source": [
    "## Namaste Data Science"
   ]
  },
  {
   "cell_type": "markdown",
   "id": "ce8b2a6a-24ec-4250-ad6d-a2d9a1eca6f2",
   "metadata": {},
   "source": [
    "### Background\n",
    "Every year, millions of brides (not to mention their mothers, future mothers-in-law, and occasionally grooms) struggle with one of the most daunting tasks during the wedding-planning process: the seating chart. The guest responses are in, banquet hall is booked, menu choices have been made. You think the hard parts are over, but you have yet to embark upon the biggest headache of them all. In order to make this process easier, we present a mathematical formulation that models the seating chart problem. This model can be solved to find the optimal arrangement of guests at tables. At the very least, it can provide a starting point and hopefully minimize stress and arguments."
   ]
  },
  {
   "cell_type": "markdown",
   "id": "ee771f81-2222-499a-bd35-10e2dd536fd8",
   "metadata": {},
   "source": [
    "<center> <img src=\"image/wedding.png\"  style=\"width: 700px\" align=\"center\"/> </center>"
   ]
  },
  {
   "cell_type": "markdown",
   "id": "a0362be0-536d-40e5-85e1-7298dae11542",
   "metadata": {},
   "source": [
    "### Mathematical representation of the seating chart problem\n"
   ]
  },
  {
   "cell_type": "markdown",
   "id": "acf6d41f-ecec-4053-9f00-11822e346b40",
   "metadata": {},
   "source": [
    "https://www.improbable.com/news/2012/Optimal-seating-chart.pdf"
   ]
  },
  {
   "cell_type": "markdown",
   "id": "18f68d3c-4138-47e0-a33f-6cb057f617ff",
   "metadata": {},
   "source": [
    "The model describes the problem by maximizing the number of connections a particular guest has at their table. In other words, the model will seek to place guests who all know each other at the same table. A user must provide the total number of guests (m), the total number of tables (n), the total number of people each table can seat (a), the minimum number of people each guest should know at their table (b), and a\n",
    "connection matrix describing which guests know each other. Table 1 provides descriptions of all the sets, variables, and parameters used in the model."
   ]
  },
  {
   "cell_type": "markdown",
   "id": "32dc6db2-68b9-4020-9d17-7802aac93de0",
   "metadata": {},
   "source": [
    "<center><img src=\"image/definition-1.png\" alt=\"Drawing\" style=\"width: 700px;\"/></center>"
   ]
  },
  {
   "cell_type": "markdown",
   "id": "c767490e-4002-46b8-bdb2-3e0f0ca6b6c8",
   "metadata": {},
   "source": [
    "<center><img src=\"image/definition-2.png\" alt=\"Drawing\" style=\"width: 700px;\"/></center>\n"
   ]
  },
  {
   "cell_type": "markdown",
   "id": "aacf8050-15a4-4eac-b01a-b2b8d37d5a4f",
   "metadata": {},
   "source": [
    "The model itself can be described as an optimization with constraints"
   ]
  },
  {
   "cell_type": "markdown",
   "id": "a3923d62-04c5-4e27-aa00-62b857551355",
   "metadata": {},
   "source": [
    "<center><img src=\"image/equations.png\" alt=\"Drawing\" style=\"width: 500px;\"/></center>"
   ]
  },
  {
   "cell_type": "markdown",
   "id": "3193af14-aea8-4564-a955-a0b09af2267b",
   "metadata": {},
   "source": [
    "### Simulated Annealing (SA) for non-linear optimization problem "
   ]
  },
  {
   "cell_type": "markdown",
   "id": "a36525db-124a-464b-946e-db1d87a1d1ee",
   "metadata": {},
   "source": [
    "Simulated annealing is a probabilistic optimization scheme which guarantees convergence to the global minimum given sufficient run time. It’s loosely based on the idea of a metallurgical annealing in which a metal is heated beyond its critical temperature and cooled according to a specific schedule until it reaches its minimum energy state. This controlled cooling regiment results in unique material properties useful for specific applications.\n",
    "\n",
    "At it’s core, simulated annealing is based on equation [1] which represents the probability of jumping to the next energy level. Within the context of simulated annealing, energy level is simply the current value of whatever function that’s being optimized."
   ]
  },
  {
   "cell_type": "markdown",
   "id": "58186c48-55d3-4e72-898d-49f509e7c222",
   "metadata": {},
   "source": [
    "<center><img src=\"image/SA.png\" alt=\"Drawing\" style=\"width: 600px; height: 260px;\"/></center>"
   ]
  },
  {
   "cell_type": "markdown",
   "id": "df5b4d1a-8422-45c5-99a8-546ef41fa947",
   "metadata": {},
   "source": [
    "### Implementing SA for wedding seating"
   ]
  },
  {
   "cell_type": "markdown",
   "id": "3748e07e-eeaf-4f85-8485-bd4958411a54",
   "metadata": {},
   "source": [
    "#### Assigning relationship scroes\n",
    "\n",
    "Maybe the most difficult piece is to understand the relationship between all parties involved. Which btw, math cannot help either. So we will go on with this piece-by-piece manual process by filling in some numbers. In my case, there are 79 guests RSVPed, it would be too much work to do it by hand. So I decided to calculate the scores based on a few criteria:\n",
    "1. Same family (-50)\n",
    "2. Same broad family (-25)\n",
    "3. Friend group (-10)\n",
    "4. Age (-5)\n",
    "\n",
    "By using a graph to reflex the pariwise distance of each person, we only need to do the calculation (factorial 79)/2 times! It really is just a few lines of for loop.\n",
    "\n",
    "Then it is always a good idea to check with your in-laws and parents to see if some pair-wise relationship needs to be adjusted (those juicy thanksgiving family gossips need to be reflected in the seating chart)"
   ]
  },
  {
   "cell_type": "code",
   "execution_count": 13,
   "id": "912bb521-7a66-4503-981c-525ac990e68d",
   "metadata": {},
   "outputs": [],
   "source": [
    "# the script is to shape the relationship of guests into a matrix for easy read in the algo\n",
    "import numpy as np\n",
    "import networkx as nx\n",
    "import string\n",
    "import pandas as pd\n",
    "\n",
    "\n",
    "class RelationshipMap:\n",
    "    def __init__(self, table_size=10, table_count=8, mapping_method='csv'):\n",
    "        if mapping_method != 'csv':\n",
    "            # guest name\n",
    "            self.guest_list = list(string.ascii_uppercase)[:10]\n",
    "            # get relationship edges, negative is good, positive is bad\n",
    "            relationships_edges = {\n",
    "                ('A', 'B'): -50,\n",
    "                ('C', 'D'): -50,\n",
    "                ('A', 'D'): 50,\n",
    "                ('E', 'F'): 25,\n",
    "                ('F', 'G'): -50,\n",
    "                ('H', 'I'): -50,\n",
    "                ('A', 'J'): 0\n",
    "            }\n",
    "            self.table_size = table_size\n",
    "            self.table_count = table_count\n",
    "\n",
    "        else:\n",
    "            # read from csv\n",
    "            relationship_df = pd.read_csv('PycharmProjects/discrete_opt/wedding_seating/relationship_mat.csv').reset_index()\n",
    "            # loop through all indices and calculate relationship score\n",
    "            relationships_edges = {}\n",
    "            for i in range(len(relationship_df) - 1):\n",
    "                for j in range(i, len(relationship_df)):\n",
    "                    if j == i:\n",
    "                        name_1 = relationship_df.loc[i]['First Name'] + ' ' + relationship_df.loc[i]['Last Name']\n",
    "                        name_2 = relationship_df.loc[j]['First Name'] + ' ' + relationship_df.loc[j]['Last Name']\n",
    "                        relationships_edges[(name_1, name_2)] = 0\n",
    "                    else:\n",
    "                        name_1 = relationship_df.loc[i]['First Name'] + ' ' + relationship_df.loc[i]['Last Name']\n",
    "                        name_2 = relationship_df.loc[j]['First Name'] + ' ' + relationship_df.loc[j]['Last Name']\n",
    "                        score_1 = int(\n",
    "                            relationship_df.loc[i]['Family index'] == relationship_df.loc[j]['Family index']) * -50\n",
    "                        score_2 = int(\n",
    "                            relationship_df.loc[i]['Family last name'] == relationship_df.loc[j][\n",
    "                                'Family last name']) * -25\n",
    "                        score_3 = int(relationship_df.loc[i]['Friend (grad vs. family)'] == relationship_df.loc[j][\n",
    "                            'Friend (grad vs. family)']) * -10\n",
    "                        score_4 = int(relationship_df.loc[i]['Age'] == relationship_df.loc[j]['Age']) * -5\n",
    "                        score = score_1 + score_2 + score_3 + score_4\n",
    "                        relationships_edges[(name_1, name_2)] = score\n",
    "\n",
    "                # update people who should not sit together or in the same table\n",
    "                relationships_edges['Chuyuan Fu', 'Peter Zhao'] = 100\n",
    "                relationships_edges['Kathleen McCarthy', 'Patrick McCarthy'] = 100\n",
    "                relationships_edges['Evijola Llabani', 'Nicole Weygandt'] = 100\n",
    "                relationships_edges['Marek Buckman','Tiffany Jeung'] = 100\n",
    "\n",
    "        # broadcast into a matrix\n",
    "        temp_graph = nx.Graph()\n",
    "        for k, v in relationships_edges.items():\n",
    "            temp_graph.add_edge(k[0], k[1], weight=v)\n",
    "        relationships_mat_raw = nx.to_numpy_matrix(temp_graph.to_undirected(), nodelist=temp_graph.nodes)\n",
    "\n",
    "        # normalization\n",
    "        self.relationships_mat = relationships_mat_raw / 100\n",
    "\n",
    "        # guest name\n",
    "        self.guest_list = list(temp_graph.nodes)\n",
    "        self.table_size = table_size\n",
    "        self.table_count = table_count\n",
    "        self.temp_graph = temp_graph\n",
    "\n"
   ]
  },
  {
   "cell_type": "code",
   "execution_count": 14,
   "id": "11668ce8-e066-4f89-88e8-5117bac0bf8d",
   "metadata": {},
   "outputs": [],
   "source": [
    "# calculate relationship map\n",
    "data_org = RelationshipMap()\n"
   ]
  },
  {
   "cell_type": "code",
   "execution_count": 15,
   "id": "c79d478c-9493-4ddc-b6fe-6b1275249308",
   "metadata": {},
   "outputs": [],
   "source": [
    "import matplotlib.pyplot as plt"
   ]
  },
  {
   "cell_type": "code",
   "execution_count": 16,
   "id": "6bc85da3-d491-4070-94d8-9df8717ae9ad",
   "metadata": {},
   "outputs": [
    {
     "data": {
      "image/png": "[encoded data removed]",
      "text/plain": [
       "<Figure size 432x288 with 2 Axes>"
      ]
     },
     "metadata": {
      "needs_background": "light"
     },
     "output_type": "display_data"
    }
   ],
   "source": [
    "# visualize the relationship graph nodes\n",
    "\n",
    "plt.imshow(data_org.relationships_mat, cmap='jet')\n",
    "plt.colorbar()\n",
    "plt.show()\n",
    "\n"
   ]
  },
  {
   "cell_type": "markdown",
   "id": "337735d2-83e2-415d-9dad-ecf0369fd708",
   "metadata": {},
   "source": [
    "#### Simulated annealing"
   ]
  },
  {
   "cell_type": "code",
   "execution_count": 17,
   "id": "e85ead0a-cd6c-4f73-b288-7dc336e4d80b",
   "metadata": {},
   "outputs": [],
   "source": [
    "class SA:\n",
    "    def __init__(self, table_count, guest_list, relationships_mat,\n",
    "                 temp=1.0, temp_min=0.00000001, alpha=0.9, n_iter=200, audit=True):\n",
    "        self.table_count = table_count\n",
    "        self.guest_list = guest_list\n",
    "        self.relationships_mat = relationships_mat\n",
    "        self.temp = temp\n",
    "        self.temp_min = temp_min\n",
    "        self.alpha = alpha\n",
    "        self.n_iter = n_iter\n",
    "        self.audit = audit\n",
    "\n",
    "    # initialize a seating randomly\n",
    "    def init_pos(self):\n",
    "        s = (self.table_count, len(self.guest_list))\n",
    "        pos_current = np.zeros(s)\n",
    "        for i in range(self.table_count):\n",
    "            pos_current[i][10*(i):min(10*(i+1),len(self.guest_list))] = 1\n",
    "        return pos_current\n",
    "\n",
    "    # make sure the matrix is of the right shape\n",
    "    def reshape_to_table_seats(self, x):\n",
    "        table_seats = x.reshape(self.table_count, len(self.guest_list))\n",
    "        return table_seats\n",
    "\n",
    "    # objective function\n",
    "    def cost(self, x):\n",
    "        table_seats = self.reshape_to_table_seats(x)\n",
    "        # actual cost\n",
    "        table_costs = table_seats * self.relationships_mat * table_seats.T\n",
    "        table_cost = np.trace(table_costs)\n",
    "        # penalty if some table has more than the the table can host\n",
    "        if sum(i > 10 for i in table_seats.sum(axis=1)) > 0:\n",
    "            penalty = 1e10\n",
    "        else:\n",
    "            penalty = 0\n",
    "        return table_cost + penalty\n",
    "\n",
    "    # randomly swap two seats (with and without guest)\n",
    "    def take_step(self, table_seats):\n",
    "        table_seats = self.reshape_to_table_seats(np.matrix(table_seats, copy=True))\n",
    "        # randomly swap one guest with another seat (can be empty)\n",
    "\n",
    "        table_from, table_to = np.random.choice(self.table_count, 2, replace=False)\n",
    "\n",
    "        table_from_guests = np.where(table_seats[table_from] == 1)[1]\n",
    "\n",
    "        # make sure table from is a guest\n",
    "        while len(table_from_guests) == 0:\n",
    "            table_from, table_to = np.random.choice(self.table_count, 2, replace=False)\n",
    "            table_from_guests = np.where(table_seats[table_from] == 1)[1]\n",
    "        # all guests at the table to be exchanged to\n",
    "        table_to_guests = np.where(table_seats[table_to] == 1)[1]\n",
    "        # original guest\n",
    "        table_from_guest = np.random.choice(table_from_guests)\n",
    "        # randomly choose one\n",
    "        table_to_guest = np.random.choice(table_to_guests)\n",
    "\n",
    "        # update seating charts\n",
    "        table_seats[table_from, table_from_guest] = 0\n",
    "        table_seats[table_from, table_to_guest] = table_seats[table_to, table_to_guest]\n",
    "        table_seats[table_to, table_to_guest] = 0\n",
    "        table_seats[table_to, table_from_guest] = 1\n",
    "        return table_seats\n",
    "\n",
    "    # metropolis criterion\n",
    "    @staticmethod\n",
    "    def prob_accept(cost_old, cost_new, temp):\n",
    "        a = 1 if cost_new < cost_old else np.exp((cost_old - cost_new) / temp)\n",
    "        return a\n",
    "\n",
    "    # annealing\n",
    "    def anneal(self):\n",
    "\n",
    "        # initialization\n",
    "        pos_current = self.init_pos()\n",
    "\n",
    "        # initial cost\n",
    "        cost_old = self.cost(pos_current)\n",
    "\n",
    "        audit_trail = []\n",
    "\n",
    "        while self.temp > self.temp_min:\n",
    "            for i in range(0, self.n_iter):\n",
    "                pos_new = self.take_step(pos_current)\n",
    "                cost_new = self.cost(pos_new)\n",
    "                p_accept = self.prob_accept(cost_old, cost_new, self.temp)\n",
    "                if p_accept > np.random.random():\n",
    "                    pos_current = pos_new\n",
    "                    cost_old = cost_new\n",
    "                if self.audit:\n",
    "                    audit_trail.append((cost_new, cost_old, self.temp, p_accept))\n",
    "            self.temp *= self.alpha\n",
    "\n",
    "        return pos_current, cost_old, audit_trail\n",
    "\n"
   ]
  },
  {
   "cell_type": "code",
   "execution_count": 18,
   "id": "1805f0ea-03cb-4e24-a756-4200f4b15a94",
   "metadata": {},
   "outputs": [],
   "source": [
    "# start SA\n",
    "sa_org = SA(data_org.table_count, data_org.guest_list, data_org.relationships_mat)\n",
    "pos_current, cost_old, audit_trail = sa_org.anneal()\n",
    "\n"
   ]
  },
  {
   "cell_type": "code",
   "execution_count": 19,
   "id": "73b83e2a-4125-4530-9bb6-cb1251bddf42",
   "metadata": {},
   "outputs": [
    {
     "data": {
      "image/png": "[encoded data removed]",
      "text/plain": [
       "<Figure size 432x288 with 1 Axes>"
      ]
     },
     "metadata": {
      "needs_background": "light"
     },
     "output_type": "display_data"
    },
    {
     "data": {
      "image/png": "[encoded data removed]",
      "text/plain": [
       "<Figure size 432x288 with 1 Axes>"
      ]
     },
     "metadata": {
      "needs_background": "light"
     },
     "output_type": "display_data"
    },
    {
     "data": {
      "image/png": "[encoded data removed]",
      "text/plain": [
       "<Figure size 432x288 with 1 Axes>"
      ]
     },
     "metadata": {
      "needs_background": "light"
     },
     "output_type": "display_data"
    }
   ],
   "source": [
    "# visualization\n",
    "audit_df = pd.DataFrame(audit_trail, columns=['cost_new', 'cost_old', 'temp', 'p_accept'])\n",
    "audit_df[['cost_old']].plot()\n",
    "audit_df[['temp']].plot()\n",
    "audit_df[['p_accept']].plot()\n",
    "plt.show()"
   ]
  },
  {
   "cell_type": "markdown",
   "id": "d8a89e68-3085-41e2-a6fc-4c89af7cd7ef",
   "metadata": {},
   "source": [
    "### In the end\n",
    "\n",
    "The premilianry seating chart is actually pretty good, it is able to arrange to make the following groups tight\n",
    "1. all my graduate school friends\n",
    "2. immediate family\n",
    "3. other cousins (like they still sit at the kids table)\n",
    "3. dance friends\n",
    "4. and most importantly, get people who should not sit at the same table as far as possible from each other\n"
   ]
  },
  {
   "cell_type": "markdown",
   "id": "98c43e68-479e-4d82-a758-cb5299d0d4d1",
   "metadata": {},
   "source": [
    "<center><img src=\"image/wedding_countdown.png\" alt=\"Drawing\" style=\"width: 400px;\"/></center>"
   ]
  },
  {
   "cell_type": "code",
   "execution_count": null,
   "id": "2bc1db4e-835e-488d-adf9-5c42472b77f6",
   "metadata": {},
   "outputs": [],
   "source": []
  }
 ],
 "metadata": {
  "kernelspec": {
   "display_name": "Python 3 (ipykernel)",
   "language": "python",
   "name": "python3"
  },
  "language_info": {
   "codemirror_mode": {
    "name": "ipython",
    "version": 3
   },
   "file_extension": ".py",
   "mimetype": "text/x-python",
   "name": "python",
   "nbconvert_exporter": "python",
   "pygments_lexer": "ipython3",
   "version": "3.9.6"
  }
 },
 "nbformat": 4,
 "nbformat_minor": 5
}
